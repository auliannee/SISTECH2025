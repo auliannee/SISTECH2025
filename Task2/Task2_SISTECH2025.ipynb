{
  "nbformat": 4,
  "nbformat_minor": 0,
  "metadata": {
    "colab": {
      "provenance": [],
      "toc_visible": true
    },
    "kernelspec": {
      "name": "python3",
      "display_name": "Python 3"
    },
    "language_info": {
      "name": "python"
    }
  },
  "cells": [
    {
      "cell_type": "markdown",
      "source": [
        "# Load Data dan Import Library"
      ],
      "metadata": {
        "id": "yBRwJxzvcfUp"
      }
    },
    {
      "cell_type": "code",
      "source": [
        "import pandas as pd\n",
        "import numpy as np\n",
        "from sklearn.feature_extraction.text import TfidfVectorizer\n",
        "from sklearn.metrics.pairwise import cosine_similarity\n",
        "import warnings\n",
        "warnings.filterwarnings('ignore')"
      ],
      "metadata": {
        "id": "ySi-KWkubTnn"
      },
      "execution_count": 1,
      "outputs": []
    },
    {
      "cell_type": "code",
      "source": [
        "from google.colab import files\n",
        "files.upload()\n",
        "\n",
        "# Load data dari CSV hasil scraping\n",
        "df = pd.read_csv('HandsOn1_coursera.csv')"
      ],
      "metadata": {
        "colab": {
          "base_uri": "https://localhost:8080/",
          "height": 76
        },
        "id": "Rfj2K3X5bd95",
        "outputId": "57d43f26-0d26-4ebb-aa3e-938123ed7f62"
      },
      "execution_count": 2,
      "outputs": [
        {
          "output_type": "display_data",
          "data": {
            "text/plain": [
              "<IPython.core.display.HTML object>"
            ],
            "text/html": [
              "\n",
              "     <input type=\"file\" id=\"files-f9a7ef3c-b7e5-46d2-a8b0-b55e408dd6f5\" name=\"files[]\" multiple disabled\n",
              "        style=\"border:none\" />\n",
              "     <output id=\"result-f9a7ef3c-b7e5-46d2-a8b0-b55e408dd6f5\">\n",
              "      Upload widget is only available when the cell has been executed in the\n",
              "      current browser session. Please rerun this cell to enable.\n",
              "      </output>\n",
              "      <script>// Copyright 2017 Google LLC\n",
              "//\n",
              "// Licensed under the Apache License, Version 2.0 (the \"License\");\n",
              "// you may not use this file except in compliance with the License.\n",
              "// You may obtain a copy of the License at\n",
              "//\n",
              "//      http://www.apache.org/licenses/LICENSE-2.0\n",
              "//\n",
              "// Unless required by applicable law or agreed to in writing, software\n",
              "// distributed under the License is distributed on an \"AS IS\" BASIS,\n",
              "// WITHOUT WARRANTIES OR CONDITIONS OF ANY KIND, either express or implied.\n",
              "// See the License for the specific language governing permissions and\n",
              "// limitations under the License.\n",
              "\n",
              "/**\n",
              " * @fileoverview Helpers for google.colab Python module.\n",
              " */\n",
              "(function(scope) {\n",
              "function span(text, styleAttributes = {}) {\n",
              "  const element = document.createElement('span');\n",
              "  element.textContent = text;\n",
              "  for (const key of Object.keys(styleAttributes)) {\n",
              "    element.style[key] = styleAttributes[key];\n",
              "  }\n",
              "  return element;\n",
              "}\n",
              "\n",
              "// Max number of bytes which will be uploaded at a time.\n",
              "const MAX_PAYLOAD_SIZE = 100 * 1024;\n",
              "\n",
              "function _uploadFiles(inputId, outputId) {\n",
              "  const steps = uploadFilesStep(inputId, outputId);\n",
              "  const outputElement = document.getElementById(outputId);\n",
              "  // Cache steps on the outputElement to make it available for the next call\n",
              "  // to uploadFilesContinue from Python.\n",
              "  outputElement.steps = steps;\n",
              "\n",
              "  return _uploadFilesContinue(outputId);\n",
              "}\n",
              "\n",
              "// This is roughly an async generator (not supported in the browser yet),\n",
              "// where there are multiple asynchronous steps and the Python side is going\n",
              "// to poll for completion of each step.\n",
              "// This uses a Promise to block the python side on completion of each step,\n",
              "// then passes the result of the previous step as the input to the next step.\n",
              "function _uploadFilesContinue(outputId) {\n",
              "  const outputElement = document.getElementById(outputId);\n",
              "  const steps = outputElement.steps;\n",
              "\n",
              "  const next = steps.next(outputElement.lastPromiseValue);\n",
              "  return Promise.resolve(next.value.promise).then((value) => {\n",
              "    // Cache the last promise value to make it available to the next\n",
              "    // step of the generator.\n",
              "    outputElement.lastPromiseValue = value;\n",
              "    return next.value.response;\n",
              "  });\n",
              "}\n",
              "\n",
              "/**\n",
              " * Generator function which is called between each async step of the upload\n",
              " * process.\n",
              " * @param {string} inputId Element ID of the input file picker element.\n",
              " * @param {string} outputId Element ID of the output display.\n",
              " * @return {!Iterable<!Object>} Iterable of next steps.\n",
              " */\n",
              "function* uploadFilesStep(inputId, outputId) {\n",
              "  const inputElement = document.getElementById(inputId);\n",
              "  inputElement.disabled = false;\n",
              "\n",
              "  const outputElement = document.getElementById(outputId);\n",
              "  outputElement.innerHTML = '';\n",
              "\n",
              "  const pickedPromise = new Promise((resolve) => {\n",
              "    inputElement.addEventListener('change', (e) => {\n",
              "      resolve(e.target.files);\n",
              "    });\n",
              "  });\n",
              "\n",
              "  const cancel = document.createElement('button');\n",
              "  inputElement.parentElement.appendChild(cancel);\n",
              "  cancel.textContent = 'Cancel upload';\n",
              "  const cancelPromise = new Promise((resolve) => {\n",
              "    cancel.onclick = () => {\n",
              "      resolve(null);\n",
              "    };\n",
              "  });\n",
              "\n",
              "  // Wait for the user to pick the files.\n",
              "  const files = yield {\n",
              "    promise: Promise.race([pickedPromise, cancelPromise]),\n",
              "    response: {\n",
              "      action: 'starting',\n",
              "    }\n",
              "  };\n",
              "\n",
              "  cancel.remove();\n",
              "\n",
              "  // Disable the input element since further picks are not allowed.\n",
              "  inputElement.disabled = true;\n",
              "\n",
              "  if (!files) {\n",
              "    return {\n",
              "      response: {\n",
              "        action: 'complete',\n",
              "      }\n",
              "    };\n",
              "  }\n",
              "\n",
              "  for (const file of files) {\n",
              "    const li = document.createElement('li');\n",
              "    li.append(span(file.name, {fontWeight: 'bold'}));\n",
              "    li.append(span(\n",
              "        `(${file.type || 'n/a'}) - ${file.size} bytes, ` +\n",
              "        `last modified: ${\n",
              "            file.lastModifiedDate ? file.lastModifiedDate.toLocaleDateString() :\n",
              "                                    'n/a'} - `));\n",
              "    const percent = span('0% done');\n",
              "    li.appendChild(percent);\n",
              "\n",
              "    outputElement.appendChild(li);\n",
              "\n",
              "    const fileDataPromise = new Promise((resolve) => {\n",
              "      const reader = new FileReader();\n",
              "      reader.onload = (e) => {\n",
              "        resolve(e.target.result);\n",
              "      };\n",
              "      reader.readAsArrayBuffer(file);\n",
              "    });\n",
              "    // Wait for the data to be ready.\n",
              "    let fileData = yield {\n",
              "      promise: fileDataPromise,\n",
              "      response: {\n",
              "        action: 'continue',\n",
              "      }\n",
              "    };\n",
              "\n",
              "    // Use a chunked sending to avoid message size limits. See b/62115660.\n",
              "    let position = 0;\n",
              "    do {\n",
              "      const length = Math.min(fileData.byteLength - position, MAX_PAYLOAD_SIZE);\n",
              "      const chunk = new Uint8Array(fileData, position, length);\n",
              "      position += length;\n",
              "\n",
              "      const base64 = btoa(String.fromCharCode.apply(null, chunk));\n",
              "      yield {\n",
              "        response: {\n",
              "          action: 'append',\n",
              "          file: file.name,\n",
              "          data: base64,\n",
              "        },\n",
              "      };\n",
              "\n",
              "      let percentDone = fileData.byteLength === 0 ?\n",
              "          100 :\n",
              "          Math.round((position / fileData.byteLength) * 100);\n",
              "      percent.textContent = `${percentDone}% done`;\n",
              "\n",
              "    } while (position < fileData.byteLength);\n",
              "  }\n",
              "\n",
              "  // All done.\n",
              "  yield {\n",
              "    response: {\n",
              "      action: 'complete',\n",
              "    }\n",
              "  };\n",
              "}\n",
              "\n",
              "scope.google = scope.google || {};\n",
              "scope.google.colab = scope.google.colab || {};\n",
              "scope.google.colab._files = {\n",
              "  _uploadFiles,\n",
              "  _uploadFilesContinue,\n",
              "};\n",
              "})(self);\n",
              "</script> "
            ]
          },
          "metadata": {}
        },
        {
          "output_type": "stream",
          "name": "stdout",
          "text": [
            "Saving HandsOn1_coursera.csv to HandsOn1_coursera.csv\n"
          ]
        }
      ]
    },
    {
      "cell_type": "code",
      "source": [
        "# Cek data awal\n",
        "\n",
        "print(df.head())"
      ],
      "metadata": {
        "colab": {
          "base_uri": "https://localhost:8080/"
        },
        "id": "zh1mHW0pbqr-",
        "outputId": "2b59a3ac-8930-4c65-80e1-d4219df01ec6"
      },
      "execution_count": 4,
      "outputs": [
        {
          "output_type": "stream",
          "name": "stdout",
          "text": [
            "                Distinct Skills    source            Processed_Skills\n",
            "0  Git (Version Control System)  coursera  git version control system\n",
            "1               Threat Modeling  coursera                threat model\n",
            "2            Quality Management  coursera               qualiti manag\n",
            "3        Engineering Management  coursera                 engin manag\n",
            "4          Process Optimization  coursera               process optim\n"
          ]
        }
      ]
    },
    {
      "cell_type": "code",
      "source": [
        "# Pake kolom 'Processed_Skills' karena sudah dibersihkan\n",
        "skills_text = df['Processed_Skills'].fillna('').tolist()\n",
        "original_skills = df['Distinct Skills'].tolist()"
      ],
      "metadata": {
        "id": "_xbK88zOcPrd"
      },
      "execution_count": 5,
      "outputs": []
    },
    {
      "cell_type": "markdown",
      "source": [
        "# Text Vectorization Pakai TF-IDF"
      ],
      "metadata": {
        "id": "LERuZsrwci8I"
      }
    },
    {
      "cell_type": "code",
      "source": [
        "# max_features=1000 untuk batasi dimensi, stop_words='english' untuk buang kata umum\n",
        "tfidf = TfidfVectorizer(\n",
        "    max_features=1000,\n",
        "    stop_words='english',\n",
        "    ngram_range=(1, 2),  # unigram dan bigram\n",
        "    lowercase=True\n",
        ")"
      ],
      "metadata": {
        "id": "Mk6jq_y5cblI"
      },
      "execution_count": 6,
      "outputs": []
    },
    {
      "cell_type": "code",
      "source": [
        "# Transform text menjadi vector\n",
        "tfidf_matrix = tfidf.fit_transform(skills_text)\n",
        "print(f\"Shape matrix TF-IDF: {tfidf_matrix.shape}\")"
      ],
      "metadata": {
        "colab": {
          "base_uri": "https://localhost:8080/"
        },
        "id": "NLswA8Ffcv7B",
        "outputId": "d1c1fd8f-b504-4257-b42a-13e6f1fdf515"
      },
      "execution_count": 8,
      "outputs": [
        {
          "output_type": "stream",
          "name": "stdout",
          "text": [
            "Shape matrix TF-IDF: (183, 391)\n"
          ]
        }
      ]
    },
    {
      "cell_type": "markdown",
      "source": [
        "# Similarity Metrics dan Mapping"
      ],
      "metadata": {
        "id": "D2t5GUJkc3eN"
      }
    },
    {
      "cell_type": "code",
      "source": [
        "# Hitung cosine similarity antar skills\n",
        "similarity_matrix = cosine_similarity(tfidf_matrix)\n",
        "print(f\"Shape similarity matrix: {similarity_matrix.shape}\")"
      ],
      "metadata": {
        "colab": {
          "base_uri": "https://localhost:8080/"
        },
        "id": "JohqgutecytU",
        "outputId": "587f1fd6-8715-4af6-fa54-c1d4cc0b9d95"
      },
      "execution_count": 9,
      "outputs": [
        {
          "output_type": "stream",
          "name": "stdout",
          "text": [
            "📐 Shape similarity matrix: (183, 183)\n"
          ]
        }
      ]
    },
    {
      "cell_type": "markdown",
      "source": [
        "# Recommendation Modelling"
      ],
      "metadata": {
        "id": "E5w0633tc_cE"
      }
    },
    {
      "cell_type": "code",
      "source": [
        "def get_skill_recommendations(skill_name, top_n=5):\n",
        "    try:\n",
        "        # Cari index skill dalam dataset\n",
        "        if skill_name in original_skills:\n",
        "            skill_idx = original_skills.index(skill_name)\n",
        "        else:\n",
        "            # Kalau ga exact match, cari yang paling mirip\n",
        "            skill_lower = skill_name.lower()\n",
        "            possible_matches = [i for i, skill in enumerate(original_skills)\n",
        "                             if skill_lower in skill.lower()]\n",
        "            if possible_matches:\n",
        "                skill_idx = possible_matches[0]\n",
        "                print(f\"⚠️ Skill '{skill_name}' tidak ditemukan exact match.\")\n",
        "                print(f\"   Menggunakan: '{original_skills[skill_idx]}'\")\n",
        "            else:\n",
        "                return []\n",
        "\n",
        "        # Ambil similarity scores untuk skill ini\n",
        "        sim_scores = similarity_matrix[skill_idx]\n",
        "\n",
        "        # Buat list (index, similarity_score) dan sort berdasarkan score\n",
        "        sim_scores_indexed = [(i, score) for i, score in enumerate(sim_scores)]\n",
        "        sim_scores_indexed.sort(key=lambda x: x[1], reverse=True)\n",
        "\n",
        "        # Ambil top_n+1 (karena index 0 adalah skill itu sendiri)\n",
        "        top_indices = sim_scores_indexed[1:top_n+1]\n",
        "\n",
        "        # Buat list rekomendasi\n",
        "        recommendations = []\n",
        "        for idx, score in top_indices:\n",
        "            recommendations.append({\n",
        "                'skill': original_skills[idx],\n",
        "                'similarity_score': round(score, 4),\n",
        "                'processed_skill': skills_text[idx]\n",
        "            })\n",
        "\n",
        "        return recommendations\n",
        "\n",
        "    except Exception as e:\n",
        "        print(f\"Error: {e}\")\n",
        "        return []"
      ],
      "metadata": {
        "id": "CL7X9BFlc9LF"
      },
      "execution_count": 10,
      "outputs": []
    },
    {
      "cell_type": "markdown",
      "source": [
        "# Testing"
      ],
      "metadata": {
        "id": "PBcxtcz1dSb8"
      }
    },
    {
      "cell_type": "code",
      "source": [
        "test_skills = ['Python Programming', 'Machine Learning', 'Data Science', 'Cybersecurity']\n",
        "\n",
        "for skill in test_skills:\n",
        "    print(f\"\\n* Rekomendasi untuk '{skill}':\")\n",
        "    recommendations = get_skill_recommendations(skill, top_n=3)\n",
        "\n",
        "    if recommendations:\n",
        "        for i, rec in enumerate(recommendations, 1):\n",
        "            print(f\"   {i}. {rec['skill']} (similarity: {rec['similarity_score']})\")\n",
        "    else:\n",
        "        print(\"Tidak ada rekomendasi ditemukan\")"
      ],
      "metadata": {
        "colab": {
          "base_uri": "https://localhost:8080/"
        },
        "id": "VQeX4_v4dPrg",
        "outputId": "f2f47c00-ba92-4bc9-ec26-77106ace9e39"
      },
      "execution_count": 12,
      "outputs": [
        {
          "output_type": "stream",
          "name": "stdout",
          "text": [
            "\n",
            "* Rekomendasi untuk 'Python Programming':\n",
            "   1. Programming Principles (similarity: 0.2581)\n",
            "   2. Loyalty Programs (similarity: 0.2581)\n",
            "   3. Object Oriented Programming (OOP) (similarity: 0.1637)\n",
            "\n",
            "* Rekomendasi untuk 'Machine Learning':\n",
            "   1. Machine Learning Software (similarity: 0.7069)\n",
            "   2. Machine Learning Algorithms (similarity: 0.6754)\n",
            "   3. Machine Learning Methods (similarity: 0.6618)\n",
            "\n",
            "* Rekomendasi untuk 'Data Science':\n",
            "   1. Data Analysis (similarity: 0.1908)\n",
            "   2. Data Visualization (similarity: 0.1871)\n",
            "   3. Data Security (similarity: 0.1856)\n",
            "\n",
            "* Rekomendasi untuk 'Cybersecurity':\n",
            "   1. Git (Version Control System) (similarity: 0.0)\n",
            "   2. Threat Modeling (similarity: 0.0)\n",
            "   3. Quality Management (similarity: 0.0)\n"
          ]
        }
      ]
    },
    {
      "cell_type": "markdown",
      "source": [
        "# Save to csv"
      ],
      "metadata": {
        "id": "2iJo-iVndiAT"
      }
    },
    {
      "cell_type": "code",
      "source": [
        "# Save feature names dari TF-IDF\n",
        "feature_names = tfidf.get_feature_names_out()\n",
        "tfidf_df = pd.DataFrame(tfidf_matrix.toarray(), columns=feature_names)\n",
        "tfidf_df['original_skill'] = original_skills\n",
        "tfidf_df['processed_skill'] = skills_text\n",
        "\n",
        "# Save TF-IDF vectors\n",
        "tfidf_df.to_csv('tfidf_vectors.csv', index=False)\n",
        "print(\"file disimpan ke 'tfidf_vectors.csv'\")"
      ],
      "metadata": {
        "colab": {
          "base_uri": "https://localhost:8080/"
        },
        "id": "-xWD6dNGdX9C",
        "outputId": "c2fce609-fa92-4618-8348-cce5bf4ea572"
      },
      "execution_count": 15,
      "outputs": [
        {
          "output_type": "stream",
          "name": "stdout",
          "text": [
            "file disimpan ke 'tfidf_vectors.csv'\n"
          ]
        }
      ]
    },
    {
      "cell_type": "code",
      "source": [
        "# Save similarity matrix\n",
        "similarity_df = pd.DataFrame(similarity_matrix,\n",
        "                           index=original_skills,\n",
        "                           columns=original_skills)\n",
        "similarity_df.to_csv('similarity_matrix.csv')\n",
        "print(\"file disimpan ke 'similarity_matrix.csv'\")"
      ],
      "metadata": {
        "colab": {
          "base_uri": "https://localhost:8080/"
        },
        "id": "HZB91wTWd68Q",
        "outputId": "21820eaf-cd73-43b7-f00b-d97816a6dbd3"
      },
      "execution_count": 16,
      "outputs": [
        {
          "output_type": "stream",
          "name": "stdout",
          "text": [
            "file disimpan ke 'similarity_matrix.csv'\n"
          ]
        }
      ]
    },
    {
      "cell_type": "code",
      "source": [
        "# Ini buat CSV yang isinya semua rekomendasi untuk setiap skill\n",
        "all_recommendations = []\n",
        "\n",
        "for i, skill in enumerate(original_skills):\n",
        "    recommendations = get_skill_recommendations(skill, top_n=5)\n",
        "    for j, rec in enumerate(recommendations):\n",
        "        all_recommendations.append({\n",
        "            'source_skill': skill,\n",
        "            'recommended_skill': rec['skill'],\n",
        "            'similarity_score': rec['similarity_score'],\n",
        "            'rank': j + 1\n",
        "        })\n",
        "\n",
        "recommendations_df = pd.DataFrame(all_recommendations)\n",
        "recommendations_df.to_csv('skill_recommendations.csv', index=False)\n",
        "print(\"file disimpan ke 'skill_recommendations.csv'\")"
      ],
      "metadata": {
        "colab": {
          "base_uri": "https://localhost:8080/"
        },
        "id": "7dPHCl3-eKwv",
        "outputId": "b0d419b4-807f-42d9-d759-8a6a6ffca54e"
      },
      "execution_count": 17,
      "outputs": [
        {
          "output_type": "stream",
          "name": "stdout",
          "text": [
            "file disimpan ke 'skill_recommendations.csv'\n"
          ]
        }
      ]
    }
  ]
}